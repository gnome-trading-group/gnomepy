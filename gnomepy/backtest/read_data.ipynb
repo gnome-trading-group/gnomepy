{
 "cells": [
  {
   "cell_type": "code",
   "execution_count": 8,
   "metadata": {},
   "outputs": [],
   "source": [
    "import numpy as np\n",
    "import sys\n",
    "import datetime\n",
    "import pandas as pd\n",
    "from gnomepy.data.types import SchemaType\n",
    "from data.client import MarketDataClient\n",
    "\n",
    "sys.path.append('/Users/andrewannetrand/Desktop/gnomepy/gnomepy')"
   ]
  },
  {
   "cell_type": "code",
   "execution_count": null,
   "metadata": {},
   "outputs": [
    {
     "ename": "ClientError",
     "evalue": "An error occurred (AccessDenied) when calling the ListObjectsV2 operation: Access Denied",
     "output_type": "error",
     "traceback": [
      "\u001b[31m---------------------------------------------------------------------------\u001b[39m",
      "\u001b[31mClientError\u001b[39m                               Traceback (most recent call last)",
      "\u001b[36mCell\u001b[39m\u001b[36m \u001b[39m\u001b[32mIn[10]\u001b[39m\u001b[32m, line 10\u001b[39m\n\u001b[32m      1\u001b[39m client = MarketDataClient(bucket=\u001b[33m\"\u001b[39m\u001b[33mmarket-data-raw-dev\u001b[39m\u001b[33m\"\u001b[39m)\n\u001b[32m      3\u001b[39m client_data_params = {\n\u001b[32m      4\u001b[39m     \u001b[33m\"\u001b[39m\u001b[33mexchange_id\u001b[39m\u001b[33m\"\u001b[39m: \u001b[32m1\u001b[39m,\n\u001b[32m      5\u001b[39m     \u001b[33m\"\u001b[39m\u001b[33mlisting_id\u001b[39m\u001b[33m\"\u001b[39m: \u001b[32m3\u001b[39m,\n\u001b[32m   (...)\u001b[39m\u001b[32m      8\u001b[39m     \u001b[33m\"\u001b[39m\u001b[33mschema_type\u001b[39m\u001b[33m\"\u001b[39m: SchemaType\n\u001b[32m      9\u001b[39m }\n\u001b[32m---> \u001b[39m\u001b[32m10\u001b[39m data = \u001b[43mclient\u001b[49m\u001b[43m.\u001b[49m\u001b[43mget_data\u001b[49m\u001b[43m(\u001b[49m\u001b[43m*\u001b[49m\u001b[43m*\u001b[49m\u001b[43mclient_data_params\u001b[49m\u001b[43m)\u001b[49m\n",
      "\u001b[36mFile \u001b[39m\u001b[32m~/Desktop/gnomepy/gnomepy/data/client.py:32\u001b[39m, in \u001b[36mMarketDataClient.get_data\u001b[39m\u001b[34m(self, exchange_id, listing_id, start_datetime, end_datetime, schema_type)\u001b[39m\n\u001b[32m     23\u001b[39m \u001b[38;5;28;01mdef\u001b[39;00m\u001b[38;5;250m \u001b[39m\u001b[34mget_data\u001b[39m(\n\u001b[32m     24\u001b[39m         \u001b[38;5;28mself\u001b[39m,\n\u001b[32m     25\u001b[39m         *,\n\u001b[32m   (...)\u001b[39m\u001b[32m     30\u001b[39m         schema_type: SchemaType\n\u001b[32m     31\u001b[39m ) -> DataStore:\n\u001b[32m---> \u001b[39m\u001b[32m32\u001b[39m     total = \u001b[38;5;28;43mself\u001b[39;49m\u001b[43m.\u001b[49m\u001b[43m_get_raw_history\u001b[49m\u001b[43m(\u001b[49m\u001b[43mexchange_id\u001b[49m\u001b[43m,\u001b[49m\u001b[43m \u001b[49m\u001b[43mlisting_id\u001b[49m\u001b[43m,\u001b[49m\u001b[43m \u001b[49m\u001b[43mstart_datetime\u001b[49m\u001b[43m,\u001b[49m\u001b[43m \u001b[49m\u001b[43mend_datetime\u001b[49m\u001b[43m)\u001b[49m\n\u001b[32m     33\u001b[39m     \u001b[38;5;28;01mreturn\u001b[39;00m DataStore.from_bytes(total, schema_type)\n",
      "\u001b[36mFile \u001b[39m\u001b[32m~/Desktop/gnomepy/gnomepy/data/client.py:42\u001b[39m, in \u001b[36mMarketDataClient._get_raw_history\u001b[39m\u001b[34m(self, exchange_id, listing_id, start_datetime, end_datetime)\u001b[39m\n\u001b[32m     35\u001b[39m \u001b[38;5;28;01mdef\u001b[39;00m\u001b[38;5;250m \u001b[39m\u001b[34m_get_raw_history\u001b[39m(\n\u001b[32m     36\u001b[39m         \u001b[38;5;28mself\u001b[39m,\n\u001b[32m     37\u001b[39m         exchange_id: \u001b[38;5;28mint\u001b[39m,\n\u001b[32m   (...)\u001b[39m\u001b[32m     40\u001b[39m         end_datetime: datetime.datetime | pd.Timestamp,\n\u001b[32m     41\u001b[39m ) -> \u001b[38;5;28mbytes\u001b[39m:\n\u001b[32m---> \u001b[39m\u001b[32m42\u001b[39m     keys = \u001b[38;5;28;43mself\u001b[39;49m\u001b[43m.\u001b[49m\u001b[43m_get_available_keys\u001b[49m\u001b[43m(\u001b[49m\u001b[43mexchange_id\u001b[49m\u001b[43m,\u001b[49m\u001b[43m \u001b[49m\u001b[43mlisting_id\u001b[49m\u001b[43m,\u001b[49m\u001b[43m \u001b[49m\u001b[43mstart_datetime\u001b[49m\u001b[43m,\u001b[49m\u001b[43m \u001b[49m\u001b[43mend_datetime\u001b[49m\u001b[43m)\u001b[49m\n\u001b[32m     43\u001b[39m     total = \u001b[33mb\u001b[39m\u001b[33m'\u001b[39m\u001b[33m'\u001b[39m\n\u001b[32m     44\u001b[39m     \u001b[38;5;28;01mfor\u001b[39;00m key \u001b[38;5;129;01min\u001b[39;00m keys:\n",
      "\u001b[36mFile \u001b[39m\u001b[32m~/Desktop/gnomepy/gnomepy/data/client.py:61\u001b[39m, in \u001b[36mMarketDataClient._get_available_keys\u001b[39m\u001b[34m(self, exchange_id, listing_id, start_datetime, end_datetime)\u001b[39m\n\u001b[32m     58\u001b[39m pages = paginator.paginate(Bucket=\u001b[38;5;28mself\u001b[39m.bucket, Prefix=prefix)\n\u001b[32m     60\u001b[39m keys = []\n\u001b[32m---> \u001b[39m\u001b[32m61\u001b[39m \u001b[43m\u001b[49m\u001b[38;5;28;43;01mfor\u001b[39;49;00m\u001b[43m \u001b[49m\u001b[43mpage\u001b[49m\u001b[43m \u001b[49m\u001b[38;5;129;43;01min\u001b[39;49;00m\u001b[43m \u001b[49m\u001b[43mpages\u001b[49m\u001b[43m:\u001b[49m\n\u001b[32m     62\u001b[39m \u001b[43m    \u001b[49m\u001b[38;5;28;43;01mfor\u001b[39;49;00m\u001b[43m \u001b[49m\u001b[43mobj\u001b[49m\u001b[43m \u001b[49m\u001b[38;5;129;43;01min\u001b[39;49;00m\u001b[43m \u001b[49m\u001b[43mpage\u001b[49m\u001b[43m[\u001b[49m\u001b[33;43m'\u001b[39;49m\u001b[33;43mContents\u001b[39;49m\u001b[33;43m'\u001b[39;49m\u001b[43m]\u001b[49m\u001b[43m:\u001b[49m\n\u001b[32m     63\u001b[39m \u001b[43m        \u001b[49m\u001b[43mkey\u001b[49m\u001b[43m \u001b[49m\u001b[43m=\u001b[49m\u001b[43m \u001b[49m\u001b[43mobj\u001b[49m\u001b[43m[\u001b[49m\u001b[33;43m'\u001b[39;49m\u001b[33;43mKey\u001b[39;49m\u001b[33;43m'\u001b[39;49m\u001b[43m]\u001b[49m\n",
      "\u001b[36mFile \u001b[39m\u001b[32m~/Desktop/gnomepy/.venv/lib/python3.13/site-packages/botocore/paginate.py:269\u001b[39m, in \u001b[36mPageIterator.__iter__\u001b[39m\u001b[34m(self)\u001b[39m\n\u001b[32m    267\u001b[39m \u001b[38;5;28mself\u001b[39m._inject_starting_params(current_kwargs)\n\u001b[32m    268\u001b[39m \u001b[38;5;28;01mwhile\u001b[39;00m \u001b[38;5;28;01mTrue\u001b[39;00m:\n\u001b[32m--> \u001b[39m\u001b[32m269\u001b[39m     response = \u001b[38;5;28;43mself\u001b[39;49m\u001b[43m.\u001b[49m\u001b[43m_make_request\u001b[49m\u001b[43m(\u001b[49m\u001b[43mcurrent_kwargs\u001b[49m\u001b[43m)\u001b[49m\n\u001b[32m    270\u001b[39m     parsed = \u001b[38;5;28mself\u001b[39m._extract_parsed_response(response)\n\u001b[32m    271\u001b[39m     \u001b[38;5;28;01mif\u001b[39;00m first_request:\n\u001b[32m    272\u001b[39m         \u001b[38;5;66;03m# The first request is handled differently.  We could\u001b[39;00m\n\u001b[32m    273\u001b[39m         \u001b[38;5;66;03m# possibly have a resume/starting token that tells us where\u001b[39;00m\n\u001b[32m    274\u001b[39m         \u001b[38;5;66;03m# to index into the retrieved page.\u001b[39;00m\n",
      "\u001b[36mFile \u001b[39m\u001b[32m~/Desktop/gnomepy/.venv/lib/python3.13/site-packages/botocore/paginate.py:357\u001b[39m, in \u001b[36mPageIterator._make_request\u001b[39m\u001b[34m(self, current_kwargs)\u001b[39m\n\u001b[32m    356\u001b[39m \u001b[38;5;28;01mdef\u001b[39;00m\u001b[38;5;250m \u001b[39m\u001b[34m_make_request\u001b[39m(\u001b[38;5;28mself\u001b[39m, current_kwargs):\n\u001b[32m--> \u001b[39m\u001b[32m357\u001b[39m     \u001b[38;5;28;01mreturn\u001b[39;00m \u001b[38;5;28;43mself\u001b[39;49m\u001b[43m.\u001b[49m\u001b[43m_method\u001b[49m\u001b[43m(\u001b[49m\u001b[43m*\u001b[49m\u001b[43m*\u001b[49m\u001b[43mcurrent_kwargs\u001b[49m\u001b[43m)\u001b[49m\n",
      "\u001b[36mFile \u001b[39m\u001b[32m~/Desktop/gnomepy/.venv/lib/python3.13/site-packages/botocore/client.py:569\u001b[39m, in \u001b[36mClientCreator._create_api_method.<locals>._api_call\u001b[39m\u001b[34m(self, *args, **kwargs)\u001b[39m\n\u001b[32m    565\u001b[39m     \u001b[38;5;28;01mraise\u001b[39;00m \u001b[38;5;167;01mTypeError\u001b[39;00m(\n\u001b[32m    566\u001b[39m         \u001b[33mf\u001b[39m\u001b[33m\"\u001b[39m\u001b[38;5;132;01m{\u001b[39;00mpy_operation_name\u001b[38;5;132;01m}\u001b[39;00m\u001b[33m() only accepts keyword arguments.\u001b[39m\u001b[33m\"\u001b[39m\n\u001b[32m    567\u001b[39m     )\n\u001b[32m    568\u001b[39m \u001b[38;5;66;03m# The \"self\" in this scope is referring to the BaseClient.\u001b[39;00m\n\u001b[32m--> \u001b[39m\u001b[32m569\u001b[39m \u001b[38;5;28;01mreturn\u001b[39;00m \u001b[38;5;28;43mself\u001b[39;49m\u001b[43m.\u001b[49m\u001b[43m_make_api_call\u001b[49m\u001b[43m(\u001b[49m\u001b[43moperation_name\u001b[49m\u001b[43m,\u001b[49m\u001b[43m \u001b[49m\u001b[43mkwargs\u001b[49m\u001b[43m)\u001b[49m\n",
      "\u001b[36mFile \u001b[39m\u001b[32m~/Desktop/gnomepy/.venv/lib/python3.13/site-packages/botocore/client.py:1023\u001b[39m, in \u001b[36mBaseClient._make_api_call\u001b[39m\u001b[34m(self, operation_name, api_params)\u001b[39m\n\u001b[32m   1019\u001b[39m     error_code = error_info.get(\u001b[33m\"\u001b[39m\u001b[33mQueryErrorCode\u001b[39m\u001b[33m\"\u001b[39m) \u001b[38;5;129;01mor\u001b[39;00m error_info.get(\n\u001b[32m   1020\u001b[39m         \u001b[33m\"\u001b[39m\u001b[33mCode\u001b[39m\u001b[33m\"\u001b[39m\n\u001b[32m   1021\u001b[39m     )\n\u001b[32m   1022\u001b[39m     error_class = \u001b[38;5;28mself\u001b[39m.exceptions.from_code(error_code)\n\u001b[32m-> \u001b[39m\u001b[32m1023\u001b[39m     \u001b[38;5;28;01mraise\u001b[39;00m error_class(parsed_response, operation_name)\n\u001b[32m   1024\u001b[39m \u001b[38;5;28;01melse\u001b[39;00m:\n\u001b[32m   1025\u001b[39m     \u001b[38;5;28;01mreturn\u001b[39;00m parsed_response\n",
      "\u001b[31mClientError\u001b[39m: An error occurred (AccessDenied) when calling the ListObjectsV2 operation: Access Denied"
     ]
    }
   ],
   "source": [
    "client = MarketDataClient(bucket=\"market-data-raw-dev\", aws_profile_name=\"aannestrand\")\n",
    "\n",
    "client_data_params = {\n",
    "    \"exchange_id\": 1,\n",
    "    \"listing_id\": 3,\n",
    "    \"start_datetime\": datetime.datetime(2023, 1, 1),\n",
    "    \"end_datetime\": datetime.datetime(2023, 12, 31),\n",
    "    \"schema_type\": SchemaType,\n",
    "}\n",
    "data = client.get_data(**client_data_params)"
   ]
  },
  {
   "cell_type": "code",
   "execution_count": null,
   "metadata": {},
   "outputs": [],
   "source": []
  }
 ],
 "metadata": {
  "kernelspec": {
   "display_name": "Python 3",
   "language": "python",
   "name": "python3"
  },
  "language_info": {
   "codemirror_mode": {
    "name": "ipython",
    "version": 3
   },
   "file_extension": ".py",
   "mimetype": "text/x-python",
   "name": "python",
   "nbconvert_exporter": "python",
   "pygments_lexer": "ipython3",
   "version": "3.13.2"
  }
 },
 "nbformat": 4,
 "nbformat_minor": 2
}
