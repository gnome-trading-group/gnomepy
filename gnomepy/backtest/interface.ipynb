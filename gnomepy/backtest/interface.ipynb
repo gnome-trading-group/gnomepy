{
 "cells": [
  {
   "cell_type": "code",
   "execution_count": 1,
   "metadata": {},
   "outputs": [],
   "source": [
    "from gnomepy.backtest.backtest import *\n",
    "from gnomepy.backtest.strategy import *\n",
    "from gnomepy.backtest.signal import *"
   ]
  },
  {
   "cell_type": "code",
   "execution_count": 6,
   "metadata": {},
   "outputs": [
    {
     "name": "stdout",
     "output_type": "stream",
     "text": [
      "1 3 2025-04-07 00:00:00 2025-04-28 00:00:00 mbp-10\n"
     ]
    },
    {
     "ename": "ClientError",
     "evalue": "An error occurred (AccessDenied) when calling the ListObjectsV2 operation: Access Denied",
     "output_type": "error",
     "traceback": [
      "\u001b[31m---------------------------------------------------------------------------\u001b[39m",
      "\u001b[31mClientError\u001b[39m                               Traceback (most recent call last)",
      "\u001b[36mCell\u001b[39m\u001b[36m \u001b[39m\u001b[32mIn[6]\u001b[39m\u001b[32m, line 15\u001b[39m\n\u001b[32m     11\u001b[39m signals = [global_signals[signal_name] \u001b[38;5;28;01mfor\u001b[39;00m signal_name \u001b[38;5;129;01min\u001b[39;00m signal_names]\n\u001b[32m     13\u001b[39m strat = Strategy(name=\u001b[33m\"\u001b[39m\u001b[33mSimple Strategy\u001b[39m\u001b[33m\"\u001b[39m, signals=[], action=Action(\u001b[38;5;28;01mlambda\u001b[39;00m x: x))\n\u001b[32m---> \u001b[39m\u001b[32m15\u001b[39m backtest = \u001b[43mBacktest\u001b[49m\u001b[43m(\u001b[49m\n\u001b[32m     16\u001b[39m \u001b[43m    \u001b[49m\u001b[43mclient\u001b[49m\u001b[43m=\u001b[49m\u001b[43mclient\u001b[49m\u001b[43m,\u001b[49m\n\u001b[32m     17\u001b[39m \u001b[43m    \u001b[49m\u001b[43mstrategy\u001b[49m\u001b[43m=\u001b[49m\u001b[43mstrat\u001b[49m\u001b[43m,\u001b[49m\n\u001b[32m     18\u001b[39m \u001b[43m    \u001b[49m\u001b[43mexchange_id\u001b[49m\u001b[43m=\u001b[49m\u001b[43mclient_data_params\u001b[49m\u001b[43m[\u001b[49m\u001b[33;43m\"\u001b[39;49m\u001b[33;43mexchange_id\u001b[39;49m\u001b[33;43m\"\u001b[39;49m\u001b[43m]\u001b[49m\u001b[43m,\u001b[49m\n\u001b[32m     19\u001b[39m \u001b[43m    \u001b[49m\u001b[43msecurity_id\u001b[49m\u001b[43m=\u001b[49m\u001b[43mclient_data_params\u001b[49m\u001b[43m[\u001b[49m\u001b[33;43m\"\u001b[39;49m\u001b[33;43msecurity_id\u001b[39;49m\u001b[33;43m\"\u001b[39;49m\u001b[43m]\u001b[49m\u001b[43m,\u001b[49m\n\u001b[32m     20\u001b[39m \u001b[43m    \u001b[49m\u001b[43mstart_datetime\u001b[49m\u001b[43m=\u001b[49m\u001b[43mclient_data_params\u001b[49m\u001b[43m[\u001b[49m\u001b[33;43m\"\u001b[39;49m\u001b[33;43mstart_datetime\u001b[39;49m\u001b[33;43m\"\u001b[39;49m\u001b[43m]\u001b[49m\u001b[43m,\u001b[49m\n\u001b[32m     21\u001b[39m \u001b[43m    \u001b[49m\u001b[43mend_datetime\u001b[49m\u001b[43m=\u001b[49m\u001b[43mclient_data_params\u001b[49m\u001b[43m[\u001b[49m\u001b[33;43m\"\u001b[39;49m\u001b[33;43mend_datetime\u001b[39;49m\u001b[33;43m\"\u001b[39;49m\u001b[43m]\u001b[49m\u001b[43m,\u001b[49m\n\u001b[32m     22\u001b[39m \u001b[43m    \u001b[49m\u001b[43mschema_type\u001b[49m\u001b[43m=\u001b[49m\u001b[43mclient_data_params\u001b[49m\u001b[43m[\u001b[49m\u001b[33;43m\"\u001b[39;49m\u001b[33;43mschema_type\u001b[39;49m\u001b[33;43m\"\u001b[39;49m\u001b[43m]\u001b[49m\n\u001b[32m     23\u001b[39m \u001b[43m)\u001b[49m\n",
      "\u001b[36mFile \u001b[39m\u001b[32m~/Desktop/gnomepy/gnomepy/backtest/backtest.py:19\u001b[39m, in \u001b[36mBacktest.__init__\u001b[39m\u001b[34m(self, client, strategy, exchange_id, security_id, start_datetime, end_datetime, schema_type)\u001b[39m\n\u001b[32m     11\u001b[39m \u001b[38;5;28mself\u001b[39m.strategy = strategy\n\u001b[32m     12\u001b[39m \u001b[38;5;28mself\u001b[39m.client_data_params = {\n\u001b[32m     13\u001b[39m     \u001b[33m\"\u001b[39m\u001b[33mexchange_id\u001b[39m\u001b[33m\"\u001b[39m: exchange_id,\n\u001b[32m     14\u001b[39m     \u001b[33m\"\u001b[39m\u001b[33msecurity_id\u001b[39m\u001b[33m\"\u001b[39m: security_id,\n\u001b[32m   (...)\u001b[39m\u001b[32m     17\u001b[39m     \u001b[33m\"\u001b[39m\u001b[33mschema_type\u001b[39m\u001b[33m\"\u001b[39m: schema_type,\n\u001b[32m     18\u001b[39m }\n\u001b[32m---> \u001b[39m\u001b[32m19\u001b[39m \u001b[38;5;28mself\u001b[39m.data = \u001b[38;5;28;43mself\u001b[39;49m\u001b[43m.\u001b[49m\u001b[43m_fetch_data\u001b[49m\u001b[43m(\u001b[49m\u001b[43m)\u001b[49m\n",
      "\u001b[36mFile \u001b[39m\u001b[32m~/Desktop/gnomepy/gnomepy/backtest/backtest.py:22\u001b[39m, in \u001b[36mBacktest._fetch_data\u001b[39m\u001b[34m(self)\u001b[39m\n\u001b[32m     21\u001b[39m \u001b[38;5;28;01mdef\u001b[39;00m\u001b[38;5;250m \u001b[39m\u001b[34m_fetch_data\u001b[39m(\u001b[38;5;28mself\u001b[39m) -> pd.DataFrame:\n\u001b[32m---> \u001b[39m\u001b[32m22\u001b[39m     \u001b[38;5;28;01mreturn\u001b[39;00m \u001b[38;5;28;43mself\u001b[39;49m\u001b[43m.\u001b[49m\u001b[43mclient\u001b[49m\u001b[43m.\u001b[49m\u001b[43mget_data\u001b[49m\u001b[43m(\u001b[49m\u001b[43m*\u001b[49m\u001b[43m*\u001b[49m\u001b[38;5;28;43mself\u001b[39;49m\u001b[43m.\u001b[49m\u001b[43mclient_data_params\u001b[49m\u001b[43m)\u001b[49m\n",
      "\u001b[36mFile \u001b[39m\u001b[32m~/Desktop/gnomepy/gnomepy/data/client.py:33\u001b[39m, in \u001b[36mMarketDataClient.get_data\u001b[39m\u001b[34m(self, exchange_id, security_id, start_datetime, end_datetime, schema_type)\u001b[39m\n\u001b[32m     23\u001b[39m \u001b[38;5;28;01mdef\u001b[39;00m\u001b[38;5;250m \u001b[39m\u001b[34mget_data\u001b[39m(\n\u001b[32m     24\u001b[39m         \u001b[38;5;28mself\u001b[39m,\n\u001b[32m     25\u001b[39m         *,\n\u001b[32m   (...)\u001b[39m\u001b[32m     30\u001b[39m         schema_type: SchemaType,\n\u001b[32m     31\u001b[39m ) -> DataStore:\n\u001b[32m     32\u001b[39m     \u001b[38;5;28mprint\u001b[39m(exchange_id, security_id, start_datetime, end_datetime, schema_type)\n\u001b[32m---> \u001b[39m\u001b[32m33\u001b[39m     total = \u001b[38;5;28;43mself\u001b[39;49m\u001b[43m.\u001b[49m\u001b[43m_get_raw_history\u001b[49m\u001b[43m(\u001b[49m\u001b[43mexchange_id\u001b[49m\u001b[43m,\u001b[49m\u001b[43m \u001b[49m\u001b[43msecurity_id\u001b[49m\u001b[43m,\u001b[49m\u001b[43m \u001b[49m\u001b[43mstart_datetime\u001b[49m\u001b[43m,\u001b[49m\u001b[43m \u001b[49m\u001b[43mend_datetime\u001b[49m\u001b[43m,\u001b[49m\u001b[43m \u001b[49m\u001b[43mschema_type\u001b[49m\u001b[43m)\u001b[49m\n\u001b[32m     34\u001b[39m     \u001b[38;5;28;01mreturn\u001b[39;00m DataStore.from_bytes(total, schema_type)\n",
      "\u001b[36mFile \u001b[39m\u001b[32m~/Desktop/gnomepy/gnomepy/data/client.py:44\u001b[39m, in \u001b[36mMarketDataClient._get_raw_history\u001b[39m\u001b[34m(self, exchange_id, security_id, start_datetime, end_datetime, schema_type)\u001b[39m\n\u001b[32m     36\u001b[39m \u001b[38;5;28;01mdef\u001b[39;00m\u001b[38;5;250m \u001b[39m\u001b[34m_get_raw_history\u001b[39m(\n\u001b[32m     37\u001b[39m         \u001b[38;5;28mself\u001b[39m,\n\u001b[32m     38\u001b[39m         exchange_id: \u001b[38;5;28mint\u001b[39m,\n\u001b[32m   (...)\u001b[39m\u001b[32m     42\u001b[39m         schema_type: SchemaType,\n\u001b[32m     43\u001b[39m ) -> \u001b[38;5;28mbytes\u001b[39m:\n\u001b[32m---> \u001b[39m\u001b[32m44\u001b[39m     keys = \u001b[38;5;28;43mself\u001b[39;49m\u001b[43m.\u001b[49m\u001b[43m_get_available_keys\u001b[49m\u001b[43m(\u001b[49m\u001b[43mexchange_id\u001b[49m\u001b[43m,\u001b[49m\u001b[43m \u001b[49m\u001b[43msecurity_id\u001b[49m\u001b[43m,\u001b[49m\u001b[43m \u001b[49m\u001b[43mstart_datetime\u001b[49m\u001b[43m,\u001b[49m\u001b[43m \u001b[49m\u001b[43mend_datetime\u001b[49m\u001b[43m,\u001b[49m\u001b[43m \u001b[49m\u001b[43mschema_type\u001b[49m\u001b[43m)\u001b[49m\n\u001b[32m     45\u001b[39m     total = \u001b[33mb\u001b[39m\u001b[33m'\u001b[39m\u001b[33m'\u001b[39m\n\u001b[32m     46\u001b[39m     \u001b[38;5;28;01mfor\u001b[39;00m key \u001b[38;5;129;01min\u001b[39;00m keys:\n",
      "\u001b[36mFile \u001b[39m\u001b[32m~/Desktop/gnomepy/gnomepy/data/client.py:64\u001b[39m, in \u001b[36mMarketDataClient._get_available_keys\u001b[39m\u001b[34m(self, exchange_id, security_id, start_datetime, end_datetime, schema_type)\u001b[39m\n\u001b[32m     61\u001b[39m paginator = \u001b[38;5;28mself\u001b[39m.s3.get_paginator(\u001b[33m'\u001b[39m\u001b[33mlist_objects_v2\u001b[39m\u001b[33m'\u001b[39m)\n\u001b[32m     62\u001b[39m pages = paginator.paginate(Bucket=\u001b[38;5;28mself\u001b[39m.bucket, Prefix=prefix)\n\u001b[32m---> \u001b[39m\u001b[32m64\u001b[39m keys = []\n\u001b[32m     65\u001b[39m \u001b[38;5;28;01mfor\u001b[39;00m page \u001b[38;5;129;01min\u001b[39;00m pages:\n\u001b[32m     66\u001b[39m     \u001b[38;5;28;01mif\u001b[39;00m \u001b[33m'\u001b[39m\u001b[33mContents\u001b[39m\u001b[33m'\u001b[39m \u001b[38;5;129;01mnot\u001b[39;00m \u001b[38;5;129;01min\u001b[39;00m page:\n",
      "\u001b[36mFile \u001b[39m\u001b[32m~/Desktop/gnomepy/.venv/lib/python3.13/site-packages/botocore/paginate.py:269\u001b[39m, in \u001b[36mPageIterator.__iter__\u001b[39m\u001b[34m(self)\u001b[39m\n\u001b[32m    267\u001b[39m \u001b[38;5;28mself\u001b[39m._inject_starting_params(current_kwargs)\n\u001b[32m    268\u001b[39m \u001b[38;5;28;01mwhile\u001b[39;00m \u001b[38;5;28;01mTrue\u001b[39;00m:\n\u001b[32m--> \u001b[39m\u001b[32m269\u001b[39m     response = \u001b[38;5;28;43mself\u001b[39;49m\u001b[43m.\u001b[49m\u001b[43m_make_request\u001b[49m\u001b[43m(\u001b[49m\u001b[43mcurrent_kwargs\u001b[49m\u001b[43m)\u001b[49m\n\u001b[32m    270\u001b[39m     parsed = \u001b[38;5;28mself\u001b[39m._extract_parsed_response(response)\n\u001b[32m    271\u001b[39m     \u001b[38;5;28;01mif\u001b[39;00m first_request:\n\u001b[32m    272\u001b[39m         \u001b[38;5;66;03m# The first request is handled differently.  We could\u001b[39;00m\n\u001b[32m    273\u001b[39m         \u001b[38;5;66;03m# possibly have a resume/starting token that tells us where\u001b[39;00m\n\u001b[32m    274\u001b[39m         \u001b[38;5;66;03m# to index into the retrieved page.\u001b[39;00m\n",
      "\u001b[36mFile \u001b[39m\u001b[32m~/Desktop/gnomepy/.venv/lib/python3.13/site-packages/botocore/paginate.py:357\u001b[39m, in \u001b[36mPageIterator._make_request\u001b[39m\u001b[34m(self, current_kwargs)\u001b[39m\n\u001b[32m    356\u001b[39m \u001b[38;5;28;01mdef\u001b[39;00m\u001b[38;5;250m \u001b[39m\u001b[34m_make_request\u001b[39m(\u001b[38;5;28mself\u001b[39m, current_kwargs):\n\u001b[32m--> \u001b[39m\u001b[32m357\u001b[39m     \u001b[38;5;28;01mreturn\u001b[39;00m \u001b[38;5;28;43mself\u001b[39;49m\u001b[43m.\u001b[49m\u001b[43m_method\u001b[49m\u001b[43m(\u001b[49m\u001b[43m*\u001b[49m\u001b[43m*\u001b[49m\u001b[43mcurrent_kwargs\u001b[49m\u001b[43m)\u001b[49m\n",
      "\u001b[36mFile \u001b[39m\u001b[32m~/Desktop/gnomepy/.venv/lib/python3.13/site-packages/botocore/client.py:569\u001b[39m, in \u001b[36mClientCreator._create_api_method.<locals>._api_call\u001b[39m\u001b[34m(self, *args, **kwargs)\u001b[39m\n\u001b[32m    565\u001b[39m     \u001b[38;5;28;01mraise\u001b[39;00m \u001b[38;5;167;01mTypeError\u001b[39;00m(\n\u001b[32m    566\u001b[39m         \u001b[33mf\u001b[39m\u001b[33m\"\u001b[39m\u001b[38;5;132;01m{\u001b[39;00mpy_operation_name\u001b[38;5;132;01m}\u001b[39;00m\u001b[33m() only accepts keyword arguments.\u001b[39m\u001b[33m\"\u001b[39m\n\u001b[32m    567\u001b[39m     )\n\u001b[32m    568\u001b[39m \u001b[38;5;66;03m# The \"self\" in this scope is referring to the BaseClient.\u001b[39;00m\n\u001b[32m--> \u001b[39m\u001b[32m569\u001b[39m \u001b[38;5;28;01mreturn\u001b[39;00m \u001b[38;5;28;43mself\u001b[39;49m\u001b[43m.\u001b[49m\u001b[43m_make_api_call\u001b[49m\u001b[43m(\u001b[49m\u001b[43moperation_name\u001b[49m\u001b[43m,\u001b[49m\u001b[43m \u001b[49m\u001b[43mkwargs\u001b[49m\u001b[43m)\u001b[49m\n",
      "\u001b[36mFile \u001b[39m\u001b[32m~/Desktop/gnomepy/.venv/lib/python3.13/site-packages/botocore/client.py:1023\u001b[39m, in \u001b[36mBaseClient._make_api_call\u001b[39m\u001b[34m(self, operation_name, api_params)\u001b[39m\n\u001b[32m   1019\u001b[39m     error_code = error_info.get(\u001b[33m\"\u001b[39m\u001b[33mQueryErrorCode\u001b[39m\u001b[33m\"\u001b[39m) \u001b[38;5;129;01mor\u001b[39;00m error_info.get(\n\u001b[32m   1020\u001b[39m         \u001b[33m\"\u001b[39m\u001b[33mCode\u001b[39m\u001b[33m\"\u001b[39m\n\u001b[32m   1021\u001b[39m     )\n\u001b[32m   1022\u001b[39m     error_class = \u001b[38;5;28mself\u001b[39m.exceptions.from_code(error_code)\n\u001b[32m-> \u001b[39m\u001b[32m1023\u001b[39m     \u001b[38;5;28;01mraise\u001b[39;00m error_class(parsed_response, operation_name)\n\u001b[32m   1024\u001b[39m \u001b[38;5;28;01melse\u001b[39;00m:\n\u001b[32m   1025\u001b[39m     \u001b[38;5;28;01mreturn\u001b[39;00m parsed_response\n",
      "\u001b[31mClientError\u001b[39m: An error occurred (AccessDenied) when calling the ListObjectsV2 operation: Access Denied"
     ]
    }
   ],
   "source": [
    "client = MarketDataClient(bucket=\"market-data-dev\", aws_profile_name=\"AWSAdministratorAccess-443370708724\")\n",
    "client_data_params = {\n",
    "    \"exchange_id\": 1,\n",
    "    \"security_id\": 3,\n",
    "    \"start_datetime\": datetime.datetime(2025, 4, 7),\n",
    "    \"end_datetime\": datetime.datetime(2025, 4, 28),\n",
    "    \"schema_type\": SchemaType.MBP_10,\n",
    "}\n",
    "\n",
    "signal_names = ['rolling_mean_30', 'rolling_median_40']\n",
    "signals = [global_signals[signal_name] for signal_name in signal_names]\n",
    "\n",
    "strat = Strategy(name=\"Simple Strategy\", signals=[], action=Action(lambda x: x))\n",
    "\n",
    "backtest = Backtest(\n",
    "    client=client,\n",
    "    strategy=strat,\n",
    "    exchange_id=client_data_params[\"exchange_id\"],\n",
    "    security_id=client_data_params[\"security_id\"],\n",
    "    start_datetime=client_data_params[\"start_datetime\"],\n",
    "    end_datetime=client_data_params[\"end_datetime\"],\n",
    "    schema_type=client_data_params[\"schema_type\"]\n",
    ")"
   ]
  },
  {
   "cell_type": "code",
   "execution_count": null,
   "metadata": {},
   "outputs": [],
   "source": []
  }
 ],
 "metadata": {
  "kernelspec": {
   "display_name": "Python 3",
   "language": "python",
   "name": "python3"
  },
  "language_info": {
   "codemirror_mode": {
    "name": "ipython",
    "version": 3
   },
   "file_extension": ".py",
   "mimetype": "text/x-python",
   "name": "python",
   "nbconvert_exporter": "python",
   "pygments_lexer": "ipython3",
   "version": "3.13.2"
  }
 },
 "nbformat": 4,
 "nbformat_minor": 2
}
